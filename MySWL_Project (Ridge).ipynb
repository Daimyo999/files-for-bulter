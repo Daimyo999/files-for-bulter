{
  "nbformat": 4,
  "nbformat_minor": 0,
  "metadata": {
    "colab": {
      "provenance": []
    },
    "kernelspec": {
      "name": "python3",
      "display_name": "Python 3"
    },
    "language_info": {
      "name": "python"
    }
  },
  "cells": [
    {
      "cell_type": "code",
      "source": [
        "!pip install PyMySQL"
      ],
      "metadata": {
        "colab": {
          "base_uri": "https://localhost:8080/"
        },
        "id": "ADGGTi2kX2E4",
        "outputId": "85f1e678-44ba-4ff5-a281-febb9b59398b"
      },
      "execution_count": null,
      "outputs": [
        {
          "output_type": "stream",
          "name": "stdout",
          "text": [
            "Collecting PyMySQL\n",
            "  Downloading PyMySQL-1.1.1-py3-none-any.whl.metadata (4.4 kB)\n",
            "Downloading PyMySQL-1.1.1-py3-none-any.whl (44 kB)\n",
            "\u001b[?25l   \u001b[90m━━━━━━━━━━━━━━━━━━━━━━━━━━━━━━━━━━━━━━━━\u001b[0m \u001b[32m0.0/45.0 kB\u001b[0m \u001b[31m?\u001b[0m eta \u001b[36m-:--:--\u001b[0m\r\u001b[2K   \u001b[90m━━━━━━━━━━━━━━━━━━━━━━━━━━━━━━━━━━━━━━━━\u001b[0m \u001b[32m45.0/45.0 kB\u001b[0m \u001b[31m1.6 MB/s\u001b[0m eta \u001b[36m0:00:00\u001b[0m\n",
            "\u001b[?25hInstalling collected packages: PyMySQL\n",
            "Successfully installed PyMySQL-1.1.1\n"
          ]
        }
      ]
    },
    {
      "cell_type": "code",
      "execution_count": null,
      "metadata": {
        "id": "5akW5NftWYKk"
      },
      "outputs": [],
      "source": [
        "import pymysql\n",
        "import pandas as pd\n",
        "import numpy as np\n",
        "import matplotlib.pyplot as plt\n",
        "\n",
        "connection = pymysql.connect(\n",
        "host = \"dsc140.cmgtlybtlnmh.us-east-2.rds.amazonaws.com\",\n",
        "user = \"guest\",\n",
        "password = \"UMUdsc140\",\n",
        "db=\"orders\")\n",
        "conn = connection.cursor()"
      ]
    },
    {
      "cell_type": "code",
      "source": [
        "sql_command = \"SHOW TABLES\"\n",
        "# conn.execute does the command in the ()\n",
        "conn.execute(sql_command)\n",
        "vals = conn.fetchall()\n",
        "for i in vals:\n",
        "  print(i)"
      ],
      "metadata": {
        "colab": {
          "base_uri": "https://localhost:8080/"
        },
        "id": "hD5WBM0iX6qo",
        "outputId": "1f89ab5e-36ea-4b2e-ccdf-b56033370ba2"
      },
      "execution_count": null,
      "outputs": [
        {
          "output_type": "stream",
          "name": "stdout",
          "text": [
            "('categories',)\n",
            "('customers',)\n",
            "('employees',)\n",
            "('orders',)\n",
            "('ordersdetails',)\n",
            "('products',)\n",
            "('shippers',)\n",
            "('suppliers',)\n"
          ]
        }
      ]
    },
    {
      "cell_type": "markdown",
      "source": [
        "The data appears to be about a buisnesses assets"
      ],
      "metadata": {
        "id": "lL_8aGHqbuGt"
      }
    },
    {
      "cell_type": "code",
      "source": [
        "sql_command2 = \"SHOW COLUMNS FROM ordersdetails\"\n",
        "output = conn.execute(sql_command2)\n",
        "vals = conn.fetchall()\n",
        "col_names = [i[0] for i in vals]\n",
        "print(col_names)"
      ],
      "metadata": {
        "colab": {
          "base_uri": "https://localhost:8080/"
        },
        "id": "YIYepTRJblze",
        "outputId": "e2f34cc7-1409-4f18-c0bd-edd740c96172"
      },
      "execution_count": null,
      "outputs": [
        {
          "output_type": "stream",
          "name": "stdout",
          "text": [
            "['OrderDetailID', 'OrderID', 'ProductID', 'Quantity']\n"
          ]
        }
      ]
    },
    {
      "cell_type": "code",
      "source": [
        "sql_quantity = \"SELECT * FROM ordersdetails\"\n",
        "output = conn.execute(sql_quantity)\n",
        "vals = conn.fetchall()\n",
        "print(vals)"
      ],
      "metadata": {
        "colab": {
          "base_uri": "https://localhost:8080/"
        },
        "id": "Mbq2GXikd2Df",
        "outputId": "c116047a-280b-4621-d260-7211e9381b11"
      },
      "execution_count": null,
      "outputs": [
        {
          "output_type": "stream",
          "name": "stdout",
          "text": [
            "((1, 10248, 11, 12), (2, 10248, 42, 10), (3, 10248, 72, 5), (4, 10249, 14, 9), (5, 10249, 51, 40), (6, 10250, 41, 10), (7, 10250, 51, 35), (8, 10250, 65, 15), (9, 10251, 22, 6), (10, 10251, 57, 15), (11, 10252, 20, 40), (12, 10252, 33, 25), (13, 10252, 60, 40), (14, 10253, 31, 20), (15, 10253, 39, 42), (16, 10253, 49, 40), (17, 10254, 24, 15), (18, 10254, 55, 21), (19, 10254, 74, 21), (20, 10255, 2, 20), (21, 10255, 16, 35), (22, 10255, 36, 25), (23, 10255, 59, 30), (24, 10256, 53, 15), (25, 10256, 77, 12), (26, 10257, 27, 25), (27, 10257, 39, 6), (28, 10257, 77, 15), (29, 10258, 2, 50), (30, 10258, 5, 65), (31, 10258, 32, 6), (32, 10259, 21, 10), (33, 10259, 37, 1), (34, 10260, 41, 16), (35, 10260, 57, 50), (36, 10260, 62, 15), (37, 10260, 70, 21), (38, 10261, 21, 20), (39, 10261, 35, 20), (40, 10262, 5, 12), (41, 10262, 7, 15), (42, 10262, 56, 2), (43, 10263, 16, 60), (44, 10263, 24, 28), (45, 10263, 30, 60), (46, 10263, 74, 36), (47, 10264, 2, 35), (48, 10264, 41, 25), (49, 10265, 17, 30), (50, 10265, 70, 20), (51, 10266, 12, 12), (52, 10267, 40, 50), (53, 10267, 59, 70), (54, 10267, 76, 15), (55, 10268, 29, 10), (56, 10268, 72, 4), (57, 10269, 33, 60), (58, 10269, 72, 20), (59, 10270, 36, 30), (60, 10270, 43, 25), (61, 10271, 33, 24), (62, 10272, 20, 6), (63, 10272, 31, 40), (64, 10272, 72, 24), (65, 10273, 10, 24), (66, 10273, 31, 15), (67, 10273, 33, 20), (68, 10273, 40, 60), (69, 10273, 76, 33), (70, 10274, 71, 20), (71, 10274, 72, 7), (72, 10275, 24, 12), (73, 10275, 59, 6), (74, 10276, 10, 15), (75, 10276, 13, 10), (76, 10277, 28, 20), (77, 10277, 62, 12), (78, 10278, 44, 16), (79, 10278, 59, 15), (80, 10278, 63, 8), (81, 10278, 73, 25), (82, 10279, 17, 15), (83, 10280, 24, 12), (84, 10280, 55, 20), (85, 10280, 75, 30), (86, 10281, 19, 1), (87, 10281, 24, 6), (88, 10281, 35, 4), (89, 10282, 30, 6), (90, 10282, 57, 2), (91, 10283, 15, 20), (92, 10283, 19, 18), (93, 10283, 60, 35), (94, 10283, 72, 3), (95, 10284, 27, 15), (96, 10284, 44, 21), (97, 10284, 60, 20), (98, 10284, 67, 5), (99, 10285, 1, 45), (100, 10285, 40, 40), (101, 10285, 53, 36), (102, 10286, 35, 100), (103, 10286, 62, 40), (104, 10287, 16, 40), (105, 10287, 34, 20), (106, 10287, 46, 15), (107, 10288, 54, 10), (108, 10288, 68, 3), (109, 10289, 3, 30), (110, 10289, 64, 9), (111, 10290, 5, 20), (112, 10290, 29, 15), (113, 10290, 49, 15), (114, 10290, 77, 10), (115, 10291, 13, 20), (116, 10291, 44, 24), (117, 10291, 51, 2), (118, 10292, 20, 20), (119, 10293, 18, 12), (120, 10293, 24, 10), (121, 10293, 63, 5), (122, 10293, 75, 6), (123, 10294, 1, 18), (124, 10294, 17, 15), (125, 10294, 43, 15), (126, 10294, 60, 21), (127, 10294, 75, 6), (128, 10295, 56, 4), (129, 10296, 11, 12), (130, 10296, 16, 30), (131, 10296, 69, 15), (132, 10297, 39, 60), (133, 10297, 72, 20), (134, 10298, 2, 40), (135, 10298, 36, 40), (136, 10298, 59, 30), (137, 10298, 62, 15), (138, 10299, 19, 15), (139, 10299, 70, 20), (140, 10300, 66, 30), (141, 10300, 68, 20), (142, 10301, 40, 10), (143, 10301, 56, 20), (144, 10302, 17, 40), (145, 10302, 28, 28), (146, 10302, 43, 12), (147, 10303, 40, 40), (148, 10303, 65, 30), (149, 10303, 68, 15), (150, 10304, 49, 30), (151, 10304, 59, 10), (152, 10304, 71, 2), (153, 10305, 18, 25), (154, 10305, 29, 25), (155, 10305, 39, 30), (156, 10306, 30, 10), (157, 10306, 53, 10), (158, 10306, 54, 5), (159, 10307, 62, 10), (160, 10307, 68, 3), (161, 10308, 69, 1), (162, 10308, 70, 5), (163, 10309, 4, 20), (164, 10309, 6, 30), (165, 10309, 42, 2), (166, 10309, 43, 20), (167, 10309, 71, 3), (168, 10310, 16, 10), (169, 10310, 62, 5), (170, 10311, 42, 6), (171, 10311, 69, 7), (172, 10312, 28, 4), (173, 10312, 43, 24), (174, 10312, 53, 20), (175, 10312, 75, 10), (176, 10313, 36, 12), (177, 10314, 32, 40), (178, 10314, 58, 30), (179, 10314, 62, 25), (180, 10315, 34, 14), (181, 10315, 70, 30), (182, 10316, 41, 10), (183, 10316, 62, 70), (184, 10317, 1, 20), (185, 10318, 41, 20), (186, 10318, 76, 6), (187, 10319, 17, 8), (188, 10319, 28, 14), (189, 10319, 76, 30), (190, 10320, 71, 30), (191, 10321, 35, 10), (192, 10322, 52, 20), (193, 10323, 15, 5), (194, 10323, 25, 4), (195, 10323, 39, 4), (196, 10324, 16, 21), (197, 10324, 35, 70), (198, 10324, 46, 30), (199, 10324, 59, 40))\n"
          ]
        }
      ]
    },
    {
      "cell_type": "code",
      "source": [
        "quantity_df = pd.DataFrame(vals, columns = col_names)\n",
        "quantity_df\n",
        "print(quantity_df['Quantity'])"
      ],
      "metadata": {
        "colab": {
          "base_uri": "https://localhost:8080/"
        },
        "id": "dUYXEj7uf1RH",
        "outputId": "05de705e-b679-40f3-880d-4a9851672b42"
      },
      "execution_count": null,
      "outputs": [
        {
          "output_type": "stream",
          "name": "stdout",
          "text": [
            "0      12\n",
            "1      10\n",
            "2       5\n",
            "3       9\n",
            "4      40\n",
            "       ..\n",
            "194     4\n",
            "195    21\n",
            "196    70\n",
            "197    30\n",
            "198    40\n",
            "Name: Quantity, Length: 199, dtype: int64\n"
          ]
        }
      ]
    },
    {
      "cell_type": "code",
      "source": [
        "sql_command3 = \"SHOW COLUMNS FROM products\"\n",
        "output = conn.execute(sql_command3)\n",
        "vals = conn.fetchall()\n",
        "col_names2 = [i[0] for i in vals]\n",
        "print(col_names2)"
      ],
      "metadata": {
        "colab": {
          "base_uri": "https://localhost:8080/"
        },
        "id": "ZsNZVw3udVqW",
        "outputId": "5af25b81-0c85-44fb-d2df-af093baad961"
      },
      "execution_count": null,
      "outputs": [
        {
          "output_type": "stream",
          "name": "stdout",
          "text": [
            "['ProductID', 'ProductName', 'SuppliersID', 'CategoryID', 'Unit', 'Price']\n"
          ]
        }
      ]
    },
    {
      "cell_type": "code",
      "source": [
        "sql_products = \"SELECT * FROM products\"\n",
        "output = conn.execute(sql_products)\n",
        "vals = conn.fetchall()\n",
        "print(vals)"
      ],
      "metadata": {
        "colab": {
          "base_uri": "https://localhost:8080/"
        },
        "id": "MM5unxWYdwJq",
        "outputId": "a8fcf61f-a69f-41bf-c525-49f8eae02902"
      },
      "execution_count": null,
      "outputs": [
        {
          "output_type": "stream",
          "name": "stdout",
          "text": [
            "((1, 'Chais', 1, 1, '10 boxes x 20 bags', 18.0), (2, 'Chang', 1, 1, '24 - 12 oz bottles', 19.0), (3, 'Aniseed Syrup', 1, 2, '12 - 550 ml bottles', 10.0), (4, 'Chef Antons Cajun Seasoning', 2, 2, '48 - 6 oz jars', 22.0), (5, 'Chef Antons Gumbo Mix', 2, 2, '36 boxes', 21.35), (6, 'Grandmas Boysenberry Spread', 3, 2, '12 - 8 oz jars', 25.0), (7, 'Uncle Bobs Organic Dried Pears', 3, 7, '12 - 1 lb pkgs.', 30.0), (8, 'Northwoods Cranberry Sauce', 3, 2, '12 - 12 oz jars', 40.0), (9, 'Mishi Kobe Niku', 4, 6, '18 - 500 g pkgs.', 97.0), (10, 'Ikura', 4, 8, '12 - 200 ml jars', 31.0), (11, 'Queso Cabrales', 5, 4, '1 kg pkg.', 21.0), (12, 'Queso Manchego La Pastora', 5, 4, '10 - 500 g pkgs.', 38.0), (13, 'Konbu', 6, 8, '2 kg box', 6.0), (14, 'Tofu', 6, 7, '40 - 100 g pkgs.', 23.25), (15, 'Genen Shouyu', 6, 2, '24 - 250 ml bottles', 15.5), (16, 'Pavlova', 7, 3, '32 - 500 g boxes', 17.45), (17, 'Alice Mutton', 7, 6, '20 - 1 kg tins', 39.0), (18, 'Carnarvon Tigers', 7, 8, '16 kg pkg.', 62.5), (19, 'Teatime Chocolate Biscuits', 8, 3, '10 boxes x 12 pieces', 9.2), (20, 'Sir Rodneys Marmalade', 8, 3, '30 gift boxes', 81.0), (21, 'Sir Rodneys Scones', 8, 3, '24 pkgs. x 4 pieces', 10.0), (22, 'Gustafs Knäckebröd', 9, 5, '24 - 500 g pkgs.', 21.0), (23, 'Tunnbröd', 9, 5, '12 - 250 g pkgs.', 9.0), (24, 'Guaraná Fantástica', 10, 1, '12 - 355 ml cans', 4.5), (25, 'NuNuCa Nuß-Nougat-Creme', 11, 3, '20 - 450 g glasses', 14.0), (26, 'Gumbär Gummibärchen', 11, 3, '100 - 250 g bags', 31.23), (27, 'Schoggi Schokolade', 11, 3, '100 - 100 g pieces', 43.9), (28, 'Rössle Sauerkraut', 12, 7, '25 - 825 g cans', 45.6), (29, 'Thüringer Rostbratwurst', 12, 6, '50 bags x 30 sausgs.', 123.79), (30, 'Nord-Ost Matjeshering', 13, 8, '10 - 200 g glasses', 25.89), (31, 'Gorgonzola Telino', 14, 4, '12 - 100 g pkgs', 12.5), (32, 'Mascarpone Fabioli', 14, 4, '24 - 200 g pkgs.', 32.0), (33, 'Geitost', 15, 4, '500 g', 2.5), (34, 'Sasquatch Ale', 16, 1, '24 - 12 oz bottles', 14.0), (35, 'Steeleye Stout', 16, 1, '24 - 12 oz bottles', 18.0), (36, 'Inlagd Sill', 17, 8, '24 - 250 g jars', 19.0), (37, 'Gravad lax', 17, 8, '12 - 500 g pkgs.', 26.0), (38, 'Côte de Blaye', 18, 1, '12 - 75 cl bottles', 263.5), (39, 'Chartreuse verte', 18, 1, '750 cc per bottle', 18.0), (40, 'Boston Crab Meat', 19, 8, '24 - 4 oz tins', 18.4), (41, 'Jacks New England Clam Chowder', 19, 8, '12 - 12 oz cans', 9.65), (42, 'Singaporean Hokkien Fried Mee', 20, 5, '32 - 1 kg pkgs.', 14.0), (43, 'Ipoh Coffee', 20, 1, '16 - 500 g tins', 46.0), (44, 'Gula Malacca', 20, 2, '20 - 2 kg bags', 19.45), (45, 'Røgede sild', 21, 8, '1k pkg.', 9.5), (46, 'Spegesild', 21, 8, '4 - 450 g glasses', 12.0), (47, 'Zaanse koeken', 22, 3, '10 - 4 oz boxes', 9.5), (48, 'Chocolade', 22, 3, '10 pkgs.', 12.75), (49, 'Maxilaku', 23, 3, '24 - 50 g pkgs.', 20.0), (50, 'Valkoinen suklaa', 23, 3, '12 - 100 g bars', 16.25), (51, 'Manjimup Dried Apples', 24, 7, '50 - 300 g pkgs.', 53.0), (52, 'Filo Mix', 24, 5, '16 - 2 kg boxes', 7.0), (53, 'Perth Pasties', 24, 6, '48 pieces', 32.8), (54, 'Tourtière', 25, 6, '16 pies', 7.45), (55, 'Pâté chinois', 25, 6, '24 boxes x 2 pies', 24.0), (56, 'Gnocchi di nonna Alice', 26, 5, '24 - 250 g pkgs.', 38.0), (57, 'Ravioli Angelo', 26, 5, '24 - 250 g pkgs.', 19.5), (58, 'Escargots de Bourgogne', 27, 8, '24 pieces', 13.25), (59, 'Raclette Courdavault', 28, 4, '5 kg pkg.', 55.0), (60, 'Camembert Pierrot', 28, 4, '15 - 300 g rounds', 34.0), (61, 'Sirop dérable', 29, 2, '24 - 500 ml bottles', 28.5), (62, 'Tarte au sucre', 29, 3, '48 pies', 49.3), (63, 'Vegie-spread', 7, 2, '15 - 625 g jars', 43.9), (64, 'Wimmers gute Semmelknödel', 12, 5, '20 bags x 4 pieces', 33.25), (65, 'Louisiana Fiery Hot Pepper Sauce', 2, 2, '32 - 8 oz bottles', 21.05), (66, 'Louisiana Hot Spiced Okra', 2, 2, '24 - 8 oz jars', 17.0), (67, 'Laughing Lumberjack Lager', 16, 1, '24 - 12 oz bottles', 14.0), (68, 'Scottish Longbreads', 8, 3, '10 boxes x 8 pieces', 12.5), (69, 'Gudbrandsdalsost', 15, 4, '10 kg pkg.', 36.0), (70, 'Outback Lager', 7, 1, '24 - 355 ml bottles', 15.0), (71, 'Fløtemysost', 15, 4, '10 - 500 g pkgs.', 21.5), (72, 'Mozzarella di Giovanni', 14, 4, '24 - 200 g pkgs.', 34.8), (73, 'Röd Kaviar', 17, 8, '24 - 150 g jars', 15.0), (74, 'Longlife Tofu', 4, 7, '5 kg pkg.', 10.0), (75, 'Rhönbräu Klosterbier', 12, 1, '24 - 0.5 l bottles', 7.75), (76, 'Lakkalikööri', 23, 1, '500 ml', 18.0), (77, 'Original Frankfurter grüne Soße', 12, 2, '12 boxes', 13.0))\n"
          ]
        }
      ]
    },
    {
      "cell_type": "code",
      "source": [
        "products_df = pd.DataFrame(vals, columns = col_names2)\n",
        "products_df\n",
        "print(products_df['Price'])"
      ],
      "metadata": {
        "colab": {
          "base_uri": "https://localhost:8080/"
        },
        "id": "LhTuHcWUhem0",
        "outputId": "f2fbae22-a6d0-4ef3-9ae7-b03cd2caa6bd"
      },
      "execution_count": null,
      "outputs": [
        {
          "output_type": "stream",
          "name": "stdout",
          "text": [
            "0     18.00\n",
            "1     19.00\n",
            "2     10.00\n",
            "3     22.00\n",
            "4     21.35\n",
            "      ...  \n",
            "72    15.00\n",
            "73    10.00\n",
            "74     7.75\n",
            "75    18.00\n",
            "76    13.00\n",
            "Name: Price, Length: 77, dtype: float64\n"
          ]
        }
      ]
    },
    {
      "cell_type": "code",
      "source": [
        "plt.hist(products_df['Price'], bins = 100)\n",
        "plt.xlabel('Price')\n",
        "plt.ylabel('Frequency')\n",
        "plt.title('Histogram of Sale Amounts')\n",
        "plt.show()"
      ],
      "metadata": {
        "id": "KLRiJqSHj4bi",
        "colab": {
          "base_uri": "https://localhost:8080/",
          "height": 472
        },
        "outputId": "9de0685d-5b95-4b61-e8db-5bb6d5940b85"
      },
      "execution_count": null,
      "outputs": [
        {
          "output_type": "display_data",
          "data": {
            "text/plain": [
              "<Figure size 640x480 with 1 Axes>"
            ],
            "image/png": "[encoded data removed]"
          },
          "metadata": {}
        }
      ]
    },
    {
      "cell_type": "markdown",
      "source": [
        "## 4"
      ],
      "metadata": {
        "id": "qjAZycflDnu4"
      }
    },
    {
      "cell_type": "code",
      "source": [
        "sql_command3 = \"SHOW COLUMNS FROM employees\"\n",
        "output = conn.execute(sql_command3)\n",
        "vals = conn.fetchall()\n",
        "col_names = [i[0] for i in vals]\n",
        "print(col_names)"
      ],
      "metadata": {
        "colab": {
          "base_uri": "https://localhost:8080/"
        },
        "id": "x3QCW4uHDj4S",
        "outputId": "87942ca8-2c3a-41da-b74a-742f136c5778"
      },
      "execution_count": null,
      "outputs": [
        {
          "output_type": "stream",
          "name": "stdout",
          "text": [
            "['EmployeeID', 'LastName', 'FirstName', 'BirthDate', 'Photo', 'Notes']\n"
          ]
        }
      ]
    },
    {
      "cell_type": "code",
      "source": [
        "sql_EmployeeID = \"SELECT * FROM employees\"\n",
        "output = conn.execute(sql_EmployeeID)\n",
        "vals = conn.fetchall()\n",
        "print(vals)"
      ],
      "metadata": {
        "colab": {
          "base_uri": "https://localhost:8080/"
        },
        "id": "hmdiGxpzDv0j",
        "outputId": "99cf1f2c-895a-4fb4-fadf-a596b7419468"
      },
      "execution_count": null,
      "outputs": [
        {
          "output_type": "stream",
          "name": "stdout",
          "text": [
            "((1, 'Davolio', 'Nancy', datetime.date(1968, 12, 8), 'EmpID1.pic', 'Education includes a BA in psychology from Colorado State University. She also completed (The Art of the Cold Call). Nancy is a member of Toastmasters International.'), (2, 'Fuller', 'Andrew', datetime.date(1952, 2, 19), 'EmpID2.pic', 'Andrew received his BTS commercial and a Ph.D. in international marketing from the University of Dallas. He is fluent in French and Italian and reads German. He joined the company as a sales representative, was promoted to sales manager and was then named vice president of sales. Andrew is a member of the Sales Management Roundtable, the Seattle Chamber of Commerce, and the Pacific Rim Importers Association.'), (3, 'Leverling', 'Janet', datetime.date(1963, 8, 30), 'EmpID3.pic', 'Janet has a BS degree in chemistry from Boston College). She has also completed a certificate program in food retailing management. Janet was hired as a sales associate and was promoted to sales representative.'), (4, 'Peacock', 'Margaret', datetime.date(1958, 9, 19), 'EmpID4.pic', 'Margaret holds a BA in English literature from Concordia College and an MA from the American Institute of Culinary Arts. She was temporarily assigned to the London office before returning to her permanent post in Seattle.'), (5, 'Buchanan', 'Steven', datetime.date(1955, 3, 4), 'EmpID5.pic', 'Steven Buchanan graduated from St. Andrews University, Scotland, with a BSC degree. Upon joining the company as a sales representative, he spent 6 months in an orientation program at the Seattle office and then returned to his permanent post in London, where he was promoted to sales manager. Mr. Buchanan has completed the courses Successful Telemarketing and International Sales Management. He is fluent in French.'), (6, 'Suyama', 'Michael', datetime.date(1963, 7, 2), 'EmpID6.pic', 'Michael is a graduate of Sussex University (MA, economics) and the University of California at Los Angeles (MBA, marketing). He has also taken the courses Multi-Cultural Selling and Time Management for the Sales Professional. He is fluent in Japanese and can read and write French, Portuguese, and Spanish.'), (7, 'King', 'Robert', datetime.date(1960, 5, 29), 'EmpID7.pic', 'Robert King served in the Peace Corps and traveled extensively before completing his degree in English at the University of Michigan and then joining the company. After completing a course entitled Selling in Europe, he was transferred to the London office.'), (8, 'Callahan', 'Laura', datetime.date(1958, 1, 9), 'EmpID8.pic', 'Laura received a BA in psychology from the University of Washington. She has also completed a course in business French. She reads and writes French.'), (9, 'Dodsworth', 'Anne', datetime.date(1969, 7, 2), 'EmpID9.pic', 'Anne has a BA degree in English from St. Lawrence College. She is fluent in French and German.'), (10, 'West', 'Adam', datetime.date(1928, 9, 19), 'EmpID10.pic', 'An old chum.'))\n"
          ]
        }
      ]
    },
    {
      "cell_type": "code",
      "source": [
        "EmployeeID_df = pd.DataFrame(vals, columns = col_names)\n",
        "EmployeeID_df\n",
        "print(EmployeeID_df['EmployeeID'])"
      ],
      "metadata": {
        "colab": {
          "base_uri": "https://localhost:8080/"
        },
        "id": "X4LsEZJZEGHG",
        "outputId": "90d4aacc-8a13-47b6-827e-a52cfdcc6087"
      },
      "execution_count": null,
      "outputs": [
        {
          "output_type": "stream",
          "name": "stdout",
          "text": [
            "0     1\n",
            "1     2\n",
            "2     3\n",
            "3     4\n",
            "4     5\n",
            "5     6\n",
            "6     7\n",
            "7     8\n",
            "8     9\n",
            "9    10\n",
            "Name: EmployeeID, dtype: int64\n"
          ]
        }
      ]
    },
    {
      "cell_type": "markdown",
      "source": [
        "## 5"
      ],
      "metadata": {
        "id": "-PzqTXFBDknZ"
      }
    },
    {
      "cell_type": "code",
      "source": [
        "sql_command4 = \"SHOW COLUMNS FROM customers\"\n",
        "output = conn.execute(sql_command4)\n",
        "vals = conn.fetchall()\n",
        "col_names = [i[0] for i in vals]\n",
        "print(col_names)"
      ],
      "metadata": {
        "colab": {
          "base_uri": "https://localhost:8080/"
        },
        "id": "7L8Kky-AB5o6",
        "outputId": "1c244e07-70bc-40b0-8860-708dcf54f25b"
      },
      "execution_count": null,
      "outputs": [
        {
          "output_type": "stream",
          "name": "stdout",
          "text": [
            "['CustomerID', 'CustomerName', 'ContractName', 'Address', 'City', 'PostalCode', 'Country']\n"
          ]
        }
      ]
    },
    {
      "cell_type": "code",
      "source": [
        "sql_CustomerC = \"SELECT * FROM customers\"\n",
        "output = conn.execute(sql_CustomerC)\n",
        "vals = conn.fetchall()\n",
        "print(vals)"
      ],
      "metadata": {
        "colab": {
          "base_uri": "https://localhost:8080/"
        },
        "id": "EEfwFQOzB5jL",
        "outputId": "67db5464-bf4e-459a-eba5-fd18b5477c55"
      },
      "execution_count": null,
      "outputs": [
        {
          "output_type": "stream",
          "name": "stdout",
          "text": [
            "((1, 'Alfreds Futterkiste', 'Maria Anders', 'Obere Str. 57', 'Berlin', '12209', 'Germany'), (2, 'Ana Trujillo Emparedados y helados', 'Ana Trujillo', 'Avda. de la Constitución 2222', 'México D.F.', '05021', 'Mexico'), (3, 'Antonio Moreno Taquería', 'Antonio Moreno', 'Mataderos 2312', 'México D.F.', '05023', 'Mexico'), (4, 'Around the Horn', 'Thomas Hardy', '120 Hanover Sq.', 'London', 'WA1 1DP', 'UK'), (5, 'Berglunds snabbköp', 'Christina Berglund', 'Berguvsvägen 8', 'Luleå', 'S-958 22', 'Sweden'), (6, 'Blauer See Delikatessen', 'Hanna Moos', 'Forsterstr. 57', 'Mannheim', '68306', 'Germany'), (7, 'Blondel père et fils', 'Frédérique Citeaux', '24 place Kléber', 'Strasbourg', '67000', 'France'), (8, 'Bólido Comidas preparadas', 'Martín Sommer', 'C/ Araquil 67', 'Madrid', '28023', 'Spain'), (9, 'Bon app', 'Laurence Lebihans', '12 rue des Bouchers', 'Marseille', '13008', 'France'), (10, 'Bottom-Dollar Marketse', 'Elizabeth Lincoln', '23 Tsawassen Blvd.', 'Tsawassen', 'T2F 8M4', 'Canada'), (11, 'Bs Beverages', 'Victoria Ashworth', 'Fauntleroy Circus', 'London', 'EC2 5NT', 'UK'), (12, 'Cactus Comidas para llevar', 'Patricio Simpson', 'Cerrito 333', 'Buenos Aires', '1010', 'Argentina'), (13, 'Centro comercial Moctezuma', 'Francisco Chang', 'Sierras de Granada 9993', 'México D.F.', '05022', 'Mexico'), (14, 'Chop-suey Chinese', 'Yang Wang', 'Hauptstr. 29', 'Bern', '3012', 'Switzerland'), (15, 'Comércio Mineiro', 'Pedro Afonso', 'Av. dos Lusíadas 23', 'São Paulo', '05432-043', 'Brazil'), (16, 'Consolidated Holdings', 'Elizabeth Brown', 'Berkeley Gardens 12 Brewery', 'London', 'WX1 6LT', 'UK'), (17, 'Drachenblut Delikatessend', 'Sven Ottlieb', 'Walserweg 21', 'Aachen', '52066', 'Germany'), (18, 'Du monde entier', 'Janine Labrune', '67 rue des Cinquante Otages', 'Nantes', '44000', 'France'), (19, 'Eastern Connection', 'Ann Devon', '35 King George', 'London', 'WX3 6FW', 'UK'), (20, 'Ernst Handel', 'Roland Mendel', 'Kirchgasse 6', 'Graz', '8010', 'Austria'), (21, 'Familia Arquibaldo', 'Aria Cruz', 'Rua Orós 92', 'São Paulo', '05442-030', 'Brazil'), (22, 'FISSA Fabrica Inter. Salchichas S.A.', 'Diego Roel', 'C/ Moralzarzal 86', 'Madrid', '28034', 'Spain'), (23, 'Folies gourmandes', 'Martine Rancé', '184 chaussée de Tournai', 'Lille', '59000', 'France'), (24, 'Folk och fä HB', 'Maria Larsson', 'Åkergatan 24', 'Bräcke', 'S-844 67', 'Sweden'), (25, 'Frankenversand', 'Peter Franken', 'Berliner Platz 43', 'München', '80805', 'Germany'), (26, 'France restauration', 'Carine Schmitt', '54 rue Royale', 'Nantes', '44000', 'France'), (27, 'Franchi S.p.A.', 'Paolo Accorti', 'Via Monte Bianco 34', 'Torino', '10100', 'Italy'), (28, 'Furia Bacalhau e Frutos do Mar', 'Lino Rodriguez', 'Jardim das rosas n. 32', 'Lisboa', '1675', 'Portugal'), (29, 'Galería del gastrónomo', 'Eduardo Saavedra', 'Rambla de Cataluña 23', 'Barcelona', '08022', 'Spain'), (30, 'Godos Cocina Típica', 'José Pedro Freyre', 'C/ Romero 33', 'Sevilla', '41101', 'Spain'), (31, 'Gourmet Lanchonetes', 'André Fonseca', 'Av. Brasil 442', 'Campinas', '04876-786', 'Brazil'), (32, 'Great Lakes Food Market', 'Howard Snyder', '2732 Baker Blvd.', 'Eugene', '97403', 'USA'), (33, 'GROSELLA-Restaurante', 'Manuel Pereira', '5ª Ave. Los Palos Grandes', 'Caracas', '1081', 'Venezuela'), (34, 'Hanari Carnes', 'Mario Pontes', 'Rua do Paço 67', 'Rio de Janeiro', '05454-876', 'Brazil'), (35, 'HILARIÓN-Abastos', 'Carlos Hernández', 'Carrera 22 con Ave. Carlos Soublette #8-35', 'San Cristóbal', '5022', 'Venezuela'), (36, 'Hungry Coyote Import Store', 'Yoshi Latimer', 'City Center Plaza 516 Main St.', 'Elgin', '97827', 'USA'), (37, 'Hungry Owl All-Night Grocers', 'Patricia McKenna', '8 Johnstown Road', 'Cork', '', 'Ireland'), (38, 'Island Trading', 'Helen Bennett', 'Garden House Crowther Way', 'Cowes', 'PO31 7PJ', 'UK'), (39, 'Königlich Essen', 'Philip Cramer', 'Maubelstr. 90', 'Brandenburg', '14776', 'Germany'), (40, 'La corne dabondance', 'Daniel Tonini', '67 avenue de l Europe', 'Versailles', '78000', 'France'), (41, 'La maison dAsie', 'Annette Roulet', '1 rue Alsace-Lorraine', 'Toulouse', '31000', 'France'), (42, 'Laughing Bacchus Wine Cellars', 'Yoshi Tannamuri', '1900 Oak St.', 'Vancouver', 'V3F 2K1', 'Canada'), (43, 'Lazy K Kountry Store', 'John Steel', '12 Orchestra Terrace', 'Walla Walla', '99362', 'USA'), (44, 'Lehmanns Marktstand', 'Renate Messner', 'Magazinweg 7', 'Frankfurt a.M.', '60528', 'Germany'), (45, 'Lets Stop N Shop', 'Jaime Yorres', '87 Polk St. Suite 5', 'San Francisco', '94117', 'USA'), (46, 'LILA-Supermercado', 'Carlos González', 'Carrera 52 con Ave. Bolívar #65-98 Llano Largo', 'Barquisimeto', '3508', 'Venezuela'), (47, 'LINO-Delicateses', 'Felipe Izquierdo', 'Ave. 5 de Mayo Porlamar', 'I. de Margarita', '4980', 'Venezuela'), (48, 'Lonesome Pine Restaurant', 'Fran Wilson', '89 Chiaroscuro Rd.', 'Portland', '97219', 'USA'), (49, 'Magazzini Alimentari Riuniti', 'Giovanni Rovelli', 'Via Ludovico il Moro 22', 'Bergamo', '24100', 'Italy'), (50, 'Maison Dewey', 'Catherine Dewey', 'Rue Joseph-Bens 532', 'Bruxelles', 'B-1180', 'Belgium'), (51, 'Mère Paillarde', 'Jean Fresnière', '43 rue St. Laurent', 'Montréal', 'H1J 1C3', 'Canada'), (52, 'Morgenstern Gesundkost', 'Alexander Feuer', 'Heerstr. 22', 'Leipzig', '04179', 'Germany'), (53, 'North/South', 'Simon Crowther', 'South House 300 Queensbridge', 'London', 'SW7 1RZ', 'UK'), (54, 'Océano Atlántico Ltda.', 'Yvonne Moncada', 'Ing. Gustavo Moncada 8585 Piso 20-A', 'Buenos Aires', '1010', 'Argentina'), (55, 'Old World Delicatessen', 'Rene Phillips', '2743 Bering St.', 'Anchorage', '99508', 'USA'), (56, 'Ottilies Käseladen', 'Henriette Pfalzheim', 'Mehrheimerstr. 369', 'Köln', '50739', 'Germany'), (57, 'Paris spécialités', 'Marie Bertrand', '265 boulevard Charonne', 'Paris', '75012', 'France'), (58, 'Pericles Comidas clásicas', 'Guillermo Fernández', 'Calle Dr. Jorge Cash 321', 'México D.F.', '05033', 'Mexico'), (59, 'Piccolo und mehr', 'Georg Pipps', 'Geislweg 14', 'Salzburg', '5020', 'Austria'), (60, 'Princesa Isabel Vinhoss', 'Isabel de Castro', 'Estrada da saúde n. 58', 'Lisboa', '1756', 'Portugal'), (61, 'Que Delícia', 'Bernardo Batista', 'Rua da Panificadora 12', 'Rio de Janeiro', '02389-673', 'Brazil'), (62, 'Queen Cozinha', 'Lúcia Carvalho', 'Alameda dos Canàrios 891', 'São Paulo', '05487-020', 'Brazil'), (63, 'QUICK-Stop', 'Horst Kloss', 'Taucherstraße 10', 'Cunewalde', '01307', 'Germany'), (64, 'Rancho grande', 'Sergio Gutiérrez', 'Av. del Libertador 900', 'Buenos Aires', '1010', 'Argentina'), (65, 'Rattlesnake Canyon Grocery', 'Paula Wilson', '2817 Milton Dr.', 'Albuquerque', '87110', 'USA'), (66, 'Reggiani Caseifici', 'Maurizio Moroni', 'Strada Provinciale 124', 'Reggio Emilia', '42100', 'Italy'), (67, 'Ricardo Adocicados', 'Janete Limeira', 'Av. Copacabana 267', 'Rio de Janeiro', '02389-890', 'Brazil'), (68, 'Richter Supermarkt', 'Michael Holz', 'Grenzacherweg 237', 'Genève', '1203', 'Switzerland'), (69, 'Romero y tomillo', 'Alejandra Camino', 'Gran Vía 1', 'Madrid', '28001', 'Spain'), (70, 'Santé Gourmet', 'Jonas Bergulfsen', 'Erling Skakkes gate 78', 'Stavern', '4110', 'Norway'), (71, 'Save-a-lot Markets', 'Jose Pavarotti', '187 Suffolk Ln.', 'Boise', '83720', 'USA'), (72, 'Seven Seas Imports', 'Hari Kumar', '90 Wadhurst Rd.', 'London', 'OX15 4NB', 'UK'), (73, 'Simons bistro', 'Jytte Petersen', 'Vinbæltet 34', 'København', '1734', 'Denmark'), (74, 'Spécialités du monde', 'Dominique Perrier', '25 rue Lauriston', 'Paris', '75016', 'France'), (75, 'Split Rail Beer & Ale', 'Art Braunschweiger', 'P.O. Box 555', 'Lander', '82520', 'USA'), (76, 'Suprêmes délices', 'Pascale Cartrain', 'Boulevard Tirou 255', 'Charleroi', 'B-6000', 'Belgium'), (77, 'The Big Cheese', 'Liz Nixon', '89 Jefferson Way Suite 2', 'Portland', '97201', 'USA'), (78, 'The Cracker Box', 'Liu Wong', '55 Grizzly Peak Rd.', 'Butte', '59801', 'USA'), (79, 'Toms Spezialitäten', 'Karin Josephs', 'Luisenstr. 48', 'Münster', '44087', 'Germany'), (80, 'Tortuga Restaurante', 'Miguel Angel Paolino', 'Avda. Azteca 123', 'México D.F.', '05033', 'Mexico'), (81, 'Tradição Hipermercados', 'Anabela Domingues', 'Av. Inês de Castro 414', 'São Paulo', '05634-030', 'Brazil'), (82, 'Trails Head Gourmet Provisioners', 'Helvetius Nagy', '722 DaVinci Blvd.', 'Kirkland', '98034', 'USA'), (83, 'Vaffeljernet', 'Palle Ibsen', 'Smagsløget 45', 'Århus', '8200', 'Denmark'), (84, 'Victuailles en stock', 'Mary Saveley', '2 rue du Commerce', 'Lyon', '69004', 'France'), (85, 'Vins et alcools Chevalier', 'Paul Henriot', '59 rue de lAbbaye', 'Reims', '51100', 'France'), (86, 'Die Wandernde Kuh', 'Rita Müller', 'Adenauerallee 900', 'Stuttgart', '70563', 'Germany'), (87, 'Wartian Herkku', 'Pirkko Koskitalo', 'Torikatu 38', 'Oulu', '90110', 'Finland'), (88, 'Wellington Importadora', 'Paula Parente', 'Rua do Mercado 12', 'Resende', '08737-363', 'Brazil'), (89, 'White Clover Markets', 'Karl Jablonski', '305 - 14th Ave. S. Suite 3B', 'Seattle', '98128', 'USA'), (90, 'Wilman', 'Matti Karttunen', 'Keskuskatu 45', 'Helsinki', '21240', 'Finland'), (91, 'Wolski', 'Zbyszek', 'ul Filtrowa 68', 'Walla', '01-012', 'Poland'))\n"
          ]
        }
      ]
    },
    {
      "cell_type": "code",
      "source": [
        "CustomerC_df = pd.DataFrame(vals, columns = col_names)\n",
        "CustomerC_df\n",
        "print(CustomerC_df['Country'])"
      ],
      "metadata": {
        "colab": {
          "base_uri": "https://localhost:8080/"
        },
        "id": "pGbHgF_cB5bp",
        "outputId": "6a64a9d9-df80-40ee-98d6-466454b8f96f"
      },
      "execution_count": null,
      "outputs": [
        {
          "output_type": "stream",
          "name": "stdout",
          "text": [
            "0     Germany\n",
            "1      Mexico\n",
            "2      Mexico\n",
            "3          UK\n",
            "4      Sweden\n",
            "       ...   \n",
            "86    Finland\n",
            "87     Brazil\n",
            "88        USA\n",
            "89    Finland\n",
            "90     Poland\n",
            "Name: Country, Length: 91, dtype: object\n"
          ]
        }
      ]
    },
    {
      "cell_type": "code",
      "source": [
        "sql_command5 = \"SHOW COLUMNS FROM customers\"\n",
        "output = conn.execute(sql_command5)\n",
        "vals = conn.fetchall()\n",
        "col_names = [i[0] for i in vals]\n",
        "print(col_names)"
      ],
      "metadata": {
        "colab": {
          "base_uri": "https://localhost:8080/"
        },
        "id": "K8Yq_jWZ-GTR",
        "outputId": "c3f62466-d392-4926-8d75-02a9b847dc1d"
      },
      "execution_count": null,
      "outputs": [
        {
          "output_type": "stream",
          "name": "stdout",
          "text": [
            "['CustomerID', 'CustomerName', 'ContractName', 'Address', 'City', 'PostalCode', 'Country']\n"
          ]
        }
      ]
    },
    {
      "cell_type": "code",
      "source": [
        "sql_CustomerName = \"SELECT * FROM customers\"\n",
        "output = conn.execute(sql_CustomerName)\n",
        "vals = conn.fetchall()\n",
        "print(vals)"
      ],
      "metadata": {
        "colab": {
          "base_uri": "https://localhost:8080/"
        },
        "id": "pYrpeEga-yWv",
        "outputId": "df1586da-10bf-4696-e3b2-a59eb46a063f"
      },
      "execution_count": null,
      "outputs": [
        {
          "output_type": "stream",
          "name": "stdout",
          "text": [
            "((1, 'Alfreds Futterkiste', 'Maria Anders', 'Obere Str. 57', 'Berlin', '12209', 'Germany'), (2, 'Ana Trujillo Emparedados y helados', 'Ana Trujillo', 'Avda. de la Constitución 2222', 'México D.F.', '05021', 'Mexico'), (3, 'Antonio Moreno Taquería', 'Antonio Moreno', 'Mataderos 2312', 'México D.F.', '05023', 'Mexico'), (4, 'Around the Horn', 'Thomas Hardy', '120 Hanover Sq.', 'London', 'WA1 1DP', 'UK'), (5, 'Berglunds snabbköp', 'Christina Berglund', 'Berguvsvägen 8', 'Luleå', 'S-958 22', 'Sweden'), (6, 'Blauer See Delikatessen', 'Hanna Moos', 'Forsterstr. 57', 'Mannheim', '68306', 'Germany'), (7, 'Blondel père et fils', 'Frédérique Citeaux', '24 place Kléber', 'Strasbourg', '67000', 'France'), (8, 'Bólido Comidas preparadas', 'Martín Sommer', 'C/ Araquil 67', 'Madrid', '28023', 'Spain'), (9, 'Bon app', 'Laurence Lebihans', '12 rue des Bouchers', 'Marseille', '13008', 'France'), (10, 'Bottom-Dollar Marketse', 'Elizabeth Lincoln', '23 Tsawassen Blvd.', 'Tsawassen', 'T2F 8M4', 'Canada'), (11, 'Bs Beverages', 'Victoria Ashworth', 'Fauntleroy Circus', 'London', 'EC2 5NT', 'UK'), (12, 'Cactus Comidas para llevar', 'Patricio Simpson', 'Cerrito 333', 'Buenos Aires', '1010', 'Argentina'), (13, 'Centro comercial Moctezuma', 'Francisco Chang', 'Sierras de Granada 9993', 'México D.F.', '05022', 'Mexico'), (14, 'Chop-suey Chinese', 'Yang Wang', 'Hauptstr. 29', 'Bern', '3012', 'Switzerland'), (15, 'Comércio Mineiro', 'Pedro Afonso', 'Av. dos Lusíadas 23', 'São Paulo', '05432-043', 'Brazil'), (16, 'Consolidated Holdings', 'Elizabeth Brown', 'Berkeley Gardens 12 Brewery', 'London', 'WX1 6LT', 'UK'), (17, 'Drachenblut Delikatessend', 'Sven Ottlieb', 'Walserweg 21', 'Aachen', '52066', 'Germany'), (18, 'Du monde entier', 'Janine Labrune', '67 rue des Cinquante Otages', 'Nantes', '44000', 'France'), (19, 'Eastern Connection', 'Ann Devon', '35 King George', 'London', 'WX3 6FW', 'UK'), (20, 'Ernst Handel', 'Roland Mendel', 'Kirchgasse 6', 'Graz', '8010', 'Austria'), (21, 'Familia Arquibaldo', 'Aria Cruz', 'Rua Orós 92', 'São Paulo', '05442-030', 'Brazil'), (22, 'FISSA Fabrica Inter. Salchichas S.A.', 'Diego Roel', 'C/ Moralzarzal 86', 'Madrid', '28034', 'Spain'), (23, 'Folies gourmandes', 'Martine Rancé', '184 chaussée de Tournai', 'Lille', '59000', 'France'), (24, 'Folk och fä HB', 'Maria Larsson', 'Åkergatan 24', 'Bräcke', 'S-844 67', 'Sweden'), (25, 'Frankenversand', 'Peter Franken', 'Berliner Platz 43', 'München', '80805', 'Germany'), (26, 'France restauration', 'Carine Schmitt', '54 rue Royale', 'Nantes', '44000', 'France'), (27, 'Franchi S.p.A.', 'Paolo Accorti', 'Via Monte Bianco 34', 'Torino', '10100', 'Italy'), (28, 'Furia Bacalhau e Frutos do Mar', 'Lino Rodriguez', 'Jardim das rosas n. 32', 'Lisboa', '1675', 'Portugal'), (29, 'Galería del gastrónomo', 'Eduardo Saavedra', 'Rambla de Cataluña 23', 'Barcelona', '08022', 'Spain'), (30, 'Godos Cocina Típica', 'José Pedro Freyre', 'C/ Romero 33', 'Sevilla', '41101', 'Spain'), (31, 'Gourmet Lanchonetes', 'André Fonseca', 'Av. Brasil 442', 'Campinas', '04876-786', 'Brazil'), (32, 'Great Lakes Food Market', 'Howard Snyder', '2732 Baker Blvd.', 'Eugene', '97403', 'USA'), (33, 'GROSELLA-Restaurante', 'Manuel Pereira', '5ª Ave. Los Palos Grandes', 'Caracas', '1081', 'Venezuela'), (34, 'Hanari Carnes', 'Mario Pontes', 'Rua do Paço 67', 'Rio de Janeiro', '05454-876', 'Brazil'), (35, 'HILARIÓN-Abastos', 'Carlos Hernández', 'Carrera 22 con Ave. Carlos Soublette #8-35', 'San Cristóbal', '5022', 'Venezuela'), (36, 'Hungry Coyote Import Store', 'Yoshi Latimer', 'City Center Plaza 516 Main St.', 'Elgin', '97827', 'USA'), (37, 'Hungry Owl All-Night Grocers', 'Patricia McKenna', '8 Johnstown Road', 'Cork', '', 'Ireland'), (38, 'Island Trading', 'Helen Bennett', 'Garden House Crowther Way', 'Cowes', 'PO31 7PJ', 'UK'), (39, 'Königlich Essen', 'Philip Cramer', 'Maubelstr. 90', 'Brandenburg', '14776', 'Germany'), (40, 'La corne dabondance', 'Daniel Tonini', '67 avenue de l Europe', 'Versailles', '78000', 'France'), (41, 'La maison dAsie', 'Annette Roulet', '1 rue Alsace-Lorraine', 'Toulouse', '31000', 'France'), (42, 'Laughing Bacchus Wine Cellars', 'Yoshi Tannamuri', '1900 Oak St.', 'Vancouver', 'V3F 2K1', 'Canada'), (43, 'Lazy K Kountry Store', 'John Steel', '12 Orchestra Terrace', 'Walla Walla', '99362', 'USA'), (44, 'Lehmanns Marktstand', 'Renate Messner', 'Magazinweg 7', 'Frankfurt a.M.', '60528', 'Germany'), (45, 'Lets Stop N Shop', 'Jaime Yorres', '87 Polk St. Suite 5', 'San Francisco', '94117', 'USA'), (46, 'LILA-Supermercado', 'Carlos González', 'Carrera 52 con Ave. Bolívar #65-98 Llano Largo', 'Barquisimeto', '3508', 'Venezuela'), (47, 'LINO-Delicateses', 'Felipe Izquierdo', 'Ave. 5 de Mayo Porlamar', 'I. de Margarita', '4980', 'Venezuela'), (48, 'Lonesome Pine Restaurant', 'Fran Wilson', '89 Chiaroscuro Rd.', 'Portland', '97219', 'USA'), (49, 'Magazzini Alimentari Riuniti', 'Giovanni Rovelli', 'Via Ludovico il Moro 22', 'Bergamo', '24100', 'Italy'), (50, 'Maison Dewey', 'Catherine Dewey', 'Rue Joseph-Bens 532', 'Bruxelles', 'B-1180', 'Belgium'), (51, 'Mère Paillarde', 'Jean Fresnière', '43 rue St. Laurent', 'Montréal', 'H1J 1C3', 'Canada'), (52, 'Morgenstern Gesundkost', 'Alexander Feuer', 'Heerstr. 22', 'Leipzig', '04179', 'Germany'), (53, 'North/South', 'Simon Crowther', 'South House 300 Queensbridge', 'London', 'SW7 1RZ', 'UK'), (54, 'Océano Atlántico Ltda.', 'Yvonne Moncada', 'Ing. Gustavo Moncada 8585 Piso 20-A', 'Buenos Aires', '1010', 'Argentina'), (55, 'Old World Delicatessen', 'Rene Phillips', '2743 Bering St.', 'Anchorage', '99508', 'USA'), (56, 'Ottilies Käseladen', 'Henriette Pfalzheim', 'Mehrheimerstr. 369', 'Köln', '50739', 'Germany'), (57, 'Paris spécialités', 'Marie Bertrand', '265 boulevard Charonne', 'Paris', '75012', 'France'), (58, 'Pericles Comidas clásicas', 'Guillermo Fernández', 'Calle Dr. Jorge Cash 321', 'México D.F.', '05033', 'Mexico'), (59, 'Piccolo und mehr', 'Georg Pipps', 'Geislweg 14', 'Salzburg', '5020', 'Austria'), (60, 'Princesa Isabel Vinhoss', 'Isabel de Castro', 'Estrada da saúde n. 58', 'Lisboa', '1756', 'Portugal'), (61, 'Que Delícia', 'Bernardo Batista', 'Rua da Panificadora 12', 'Rio de Janeiro', '02389-673', 'Brazil'), (62, 'Queen Cozinha', 'Lúcia Carvalho', 'Alameda dos Canàrios 891', 'São Paulo', '05487-020', 'Brazil'), (63, 'QUICK-Stop', 'Horst Kloss', 'Taucherstraße 10', 'Cunewalde', '01307', 'Germany'), (64, 'Rancho grande', 'Sergio Gutiérrez', 'Av. del Libertador 900', 'Buenos Aires', '1010', 'Argentina'), (65, 'Rattlesnake Canyon Grocery', 'Paula Wilson', '2817 Milton Dr.', 'Albuquerque', '87110', 'USA'), (66, 'Reggiani Caseifici', 'Maurizio Moroni', 'Strada Provinciale 124', 'Reggio Emilia', '42100', 'Italy'), (67, 'Ricardo Adocicados', 'Janete Limeira', 'Av. Copacabana 267', 'Rio de Janeiro', '02389-890', 'Brazil'), (68, 'Richter Supermarkt', 'Michael Holz', 'Grenzacherweg 237', 'Genève', '1203', 'Switzerland'), (69, 'Romero y tomillo', 'Alejandra Camino', 'Gran Vía 1', 'Madrid', '28001', 'Spain'), (70, 'Santé Gourmet', 'Jonas Bergulfsen', 'Erling Skakkes gate 78', 'Stavern', '4110', 'Norway'), (71, 'Save-a-lot Markets', 'Jose Pavarotti', '187 Suffolk Ln.', 'Boise', '83720', 'USA'), (72, 'Seven Seas Imports', 'Hari Kumar', '90 Wadhurst Rd.', 'London', 'OX15 4NB', 'UK'), (73, 'Simons bistro', 'Jytte Petersen', 'Vinbæltet 34', 'København', '1734', 'Denmark'), (74, 'Spécialités du monde', 'Dominique Perrier', '25 rue Lauriston', 'Paris', '75016', 'France'), (75, 'Split Rail Beer & Ale', 'Art Braunschweiger', 'P.O. Box 555', 'Lander', '82520', 'USA'), (76, 'Suprêmes délices', 'Pascale Cartrain', 'Boulevard Tirou 255', 'Charleroi', 'B-6000', 'Belgium'), (77, 'The Big Cheese', 'Liz Nixon', '89 Jefferson Way Suite 2', 'Portland', '97201', 'USA'), (78, 'The Cracker Box', 'Liu Wong', '55 Grizzly Peak Rd.', 'Butte', '59801', 'USA'), (79, 'Toms Spezialitäten', 'Karin Josephs', 'Luisenstr. 48', 'Münster', '44087', 'Germany'), (80, 'Tortuga Restaurante', 'Miguel Angel Paolino', 'Avda. Azteca 123', 'México D.F.', '05033', 'Mexico'), (81, 'Tradição Hipermercados', 'Anabela Domingues', 'Av. Inês de Castro 414', 'São Paulo', '05634-030', 'Brazil'), (82, 'Trails Head Gourmet Provisioners', 'Helvetius Nagy', '722 DaVinci Blvd.', 'Kirkland', '98034', 'USA'), (83, 'Vaffeljernet', 'Palle Ibsen', 'Smagsløget 45', 'Århus', '8200', 'Denmark'), (84, 'Victuailles en stock', 'Mary Saveley', '2 rue du Commerce', 'Lyon', '69004', 'France'), (85, 'Vins et alcools Chevalier', 'Paul Henriot', '59 rue de lAbbaye', 'Reims', '51100', 'France'), (86, 'Die Wandernde Kuh', 'Rita Müller', 'Adenauerallee 900', 'Stuttgart', '70563', 'Germany'), (87, 'Wartian Herkku', 'Pirkko Koskitalo', 'Torikatu 38', 'Oulu', '90110', 'Finland'), (88, 'Wellington Importadora', 'Paula Parente', 'Rua do Mercado 12', 'Resende', '08737-363', 'Brazil'), (89, 'White Clover Markets', 'Karl Jablonski', '305 - 14th Ave. S. Suite 3B', 'Seattle', '98128', 'USA'), (90, 'Wilman', 'Matti Karttunen', 'Keskuskatu 45', 'Helsinki', '21240', 'Finland'), (91, 'Wolski', 'Zbyszek', 'ul Filtrowa 68', 'Walla', '01-012', 'Poland'))\n"
          ]
        }
      ]
    },
    {
      "cell_type": "code",
      "source": [
        "CustomerName_df = pd.DataFrame(vals, columns = col_names)\n",
        "CustomerName_df\n",
        "print(CustomerName_df['CustomerName'])"
      ],
      "metadata": {
        "colab": {
          "base_uri": "https://localhost:8080/"
        },
        "id": "R83ldRDF_yh8",
        "outputId": "996ad9c0-4a21-46ad-9d60-db58344a258f"
      },
      "execution_count": null,
      "outputs": [
        {
          "output_type": "stream",
          "name": "stdout",
          "text": [
            "0                    Alfreds Futterkiste\n",
            "1     Ana Trujillo Emparedados y helados\n",
            "2                Antonio Moreno Taquería\n",
            "3                        Around the Horn\n",
            "4                     Berglunds snabbköp\n",
            "                     ...                \n",
            "86                        Wartian Herkku\n",
            "87                Wellington Importadora\n",
            "88                  White Clover Markets\n",
            "89                                Wilman\n",
            "90                                Wolski\n",
            "Name: CustomerName, Length: 91, dtype: object\n"
          ]
        }
      ]
    },
    {
      "cell_type": "code",
      "source": [
        "merged_df = pd.merge(CustomerName_df, CustomerC_df, on='CustomerID')\n",
        "merged_df"
      ],
      "metadata": {
        "colab": {
          "base_uri": "https://localhost:8080/",
          "height": 504
        },
        "id": "xrBcgKoYC1uq",
        "outputId": "e050cd60-9051-447d-b6b8-ab747f231035"
      },
      "execution_count": null,
      "outputs": [
        {
          "output_type": "execute_result",
          "data": {
            "text/plain": [
              "    CustomerID                      CustomerName_x      ContractName_x  \\\n",
              "0            1                 Alfreds Futterkiste        Maria Anders   \n",
              "1            2  Ana Trujillo Emparedados y helados        Ana Trujillo   \n",
              "2            3             Antonio Moreno Taquería      Antonio Moreno   \n",
              "3            4                     Around the Horn        Thomas Hardy   \n",
              "4            5                  Berglunds snabbköp  Christina Berglund   \n",
              "..         ...                                 ...                 ...   \n",
              "86          87                      Wartian Herkku    Pirkko Koskitalo   \n",
              "87          88              Wellington Importadora       Paula Parente   \n",
              "88          89                White Clover Markets      Karl Jablonski   \n",
              "89          90                              Wilman     Matti Karttunen   \n",
              "90          91                              Wolski             Zbyszek   \n",
              "\n",
              "                        Address_x       City_x PostalCode_x Country_x  \\\n",
              "0                   Obere Str. 57       Berlin        12209   Germany   \n",
              "1   Avda. de la Constitución 2222  México D.F.        05021    Mexico   \n",
              "2                  Mataderos 2312  México D.F.        05023    Mexico   \n",
              "3                 120 Hanover Sq.       London      WA1 1DP        UK   \n",
              "4                  Berguvsvägen 8        Luleå     S-958 22    Sweden   \n",
              "..                            ...          ...          ...       ...   \n",
              "86                    Torikatu 38         Oulu        90110   Finland   \n",
              "87              Rua do Mercado 12      Resende    08737-363    Brazil   \n",
              "88    305 - 14th Ave. S. Suite 3B      Seattle        98128       USA   \n",
              "89                  Keskuskatu 45     Helsinki        21240   Finland   \n",
              "90                 ul Filtrowa 68        Walla       01-012    Poland   \n",
              "\n",
              "                        CustomerName_y      ContractName_y  \\\n",
              "0                  Alfreds Futterkiste        Maria Anders   \n",
              "1   Ana Trujillo Emparedados y helados        Ana Trujillo   \n",
              "2              Antonio Moreno Taquería      Antonio Moreno   \n",
              "3                      Around the Horn        Thomas Hardy   \n",
              "4                   Berglunds snabbköp  Christina Berglund   \n",
              "..                                 ...                 ...   \n",
              "86                      Wartian Herkku    Pirkko Koskitalo   \n",
              "87              Wellington Importadora       Paula Parente   \n",
              "88                White Clover Markets      Karl Jablonski   \n",
              "89                              Wilman     Matti Karttunen   \n",
              "90                              Wolski             Zbyszek   \n",
              "\n",
              "                        Address_y       City_y PostalCode_y Country_y  \n",
              "0                   Obere Str. 57       Berlin        12209   Germany  \n",
              "1   Avda. de la Constitución 2222  México D.F.        05021    Mexico  \n",
              "2                  Mataderos 2312  México D.F.        05023    Mexico  \n",
              "3                 120 Hanover Sq.       London      WA1 1DP        UK  \n",
              "4                  Berguvsvägen 8        Luleå     S-958 22    Sweden  \n",
              "..                            ...          ...          ...       ...  \n",
              "86                    Torikatu 38         Oulu        90110   Finland  \n",
              "87              Rua do Mercado 12      Resende    08737-363    Brazil  \n",
              "88    305 - 14th Ave. S. Suite 3B      Seattle        98128       USA  \n",
              "89                  Keskuskatu 45     Helsinki        21240   Finland  \n",
              "90                 ul Filtrowa 68        Walla       01-012    Poland  \n",
              "\n",
              "[91 rows x 13 columns]"
            ],
            "text/html": [
              "\n",
              "  <div id=\"df-0efc2528-9c34-4055-bda7-157e48e0eed5\" class=\"colab-df-container\">\n",
              "    <div>\n",
              "<style scoped>\n",
              "    .dataframe tbody tr th:only-of-type {\n",
              "        vertical-align: middle;\n",
              "    }\n",
              "\n",
              "    .dataframe tbody tr th {\n",
              "        vertical-align: top;\n",
              "    }\n",
              "\n",
              "    .dataframe thead th {\n",
              "        text-align: right;\n",
              "    }\n",
              "</style>\n",
              "<table border=\"1\" class=\"dataframe\">\n",
              "  <thead>\n",
              "    <tr style=\"text-align: right;\">\n",
              "      <th></th>\n",
              "      <th>CustomerID</th>\n",
              "      <th>CustomerName_x</th>\n",
              "      <th>ContractName_x</th>\n",
              "      <th>Address_x</th>\n",
              "      <th>City_x</th>\n",
              "      <th>PostalCode_x</th>\n",
              "      <th>Country_x</th>\n",
              "      <th>CustomerName_y</th>\n",
              "      <th>ContractName_y</th>\n",
              "      <th>Address_y</th>\n",
              "      <th>City_y</th>\n",
              "      <th>PostalCode_y</th>\n",
              "      <th>Country_y</th>\n",
              "    </tr>\n",
              "  </thead>\n",
              "  <tbody>\n",
              "    <tr>\n",
              "      <th>0</th>\n",
              "      <td>1</td>\n",
              "      <td>Alfreds Futterkiste</td>\n",
              "      <td>Maria Anders</td>\n",
              "      <td>Obere Str. 57</td>\n",
              "      <td>Berlin</td>\n",
              "      <td>12209</td>\n",
              "      <td>Germany</td>\n",
              "      <td>Alfreds Futterkiste</td>\n",
              "      <td>Maria Anders</td>\n",
              "      <td>Obere Str. 57</td>\n",
              "      <td>Berlin</td>\n",
              "      <td>12209</td>\n",
              "      <td>Germany</td>\n",
              "    </tr>\n",
              "    <tr>\n",
              "      <th>1</th>\n",
              "      <td>2</td>\n",
              "      <td>Ana Trujillo Emparedados y helados</td>\n",
              "      <td>Ana Trujillo</td>\n",
              "      <td>Avda. de la Constitución 2222</td>\n",
              "      <td>México D.F.</td>\n",
              "      <td>05021</td>\n",
              "      <td>Mexico</td>\n",
              "      <td>Ana Trujillo Emparedados y helados</td>\n",
              "      <td>Ana Trujillo</td>\n",
              "      <td>Avda. de la Constitución 2222</td>\n",
              "      <td>México D.F.</td>\n",
              "      <td>05021</td>\n",
              "      <td>Mexico</td>\n",
              "    </tr>\n",
              "    <tr>\n",
              "      <th>2</th>\n",
              "      <td>3</td>\n",
              "      <td>Antonio Moreno Taquería</td>\n",
              "      <td>Antonio Moreno</td>\n",
              "      <td>Mataderos 2312</td>\n",
              "      <td>México D.F.</td>\n",
              "      <td>05023</td>\n",
              "      <td>Mexico</td>\n",
              "      <td>Antonio Moreno Taquería</td>\n",
              "      <td>Antonio Moreno</td>\n",
              "      <td>Mataderos 2312</td>\n",
              "      <td>México D.F.</td>\n",
              "      <td>05023</td>\n",
              "      <td>Mexico</td>\n",
              "    </tr>\n",
              "    <tr>\n",
              "      <th>3</th>\n",
              "      <td>4</td>\n",
              "      <td>Around the Horn</td>\n",
              "      <td>Thomas Hardy</td>\n",
              "      <td>120 Hanover Sq.</td>\n",
              "      <td>London</td>\n",
              "      <td>WA1 1DP</td>\n",
              "      <td>UK</td>\n",
              "      <td>Around the Horn</td>\n",
              "      <td>Thomas Hardy</td>\n",
              "      <td>120 Hanover Sq.</td>\n",
              "      <td>London</td>\n",
              "      <td>WA1 1DP</td>\n",
              "      <td>UK</td>\n",
              "    </tr>\n",
              "    <tr>\n",
              "      <th>4</th>\n",
              "      <td>5</td>\n",
              "      <td>Berglunds snabbköp</td>\n",
              "      <td>Christina Berglund</td>\n",
              "      <td>Berguvsvägen 8</td>\n",
              "      <td>Luleå</td>\n",
              "      <td>S-958 22</td>\n",
              "      <td>Sweden</td>\n",
              "      <td>Berglunds snabbköp</td>\n",
              "      <td>Christina Berglund</td>\n",
              "      <td>Berguvsvägen 8</td>\n",
              "      <td>Luleå</td>\n",
              "      <td>S-958 22</td>\n",
              "      <td>Sweden</td>\n",
              "    </tr>\n",
              "    <tr>\n",
              "      <th>...</th>\n",
              "      <td>...</td>\n",
              "      <td>...</td>\n",
              "      <td>...</td>\n",
              "      <td>...</td>\n",
              "      <td>...</td>\n",
              "      <td>...</td>\n",
              "      <td>...</td>\n",
              "      <td>...</td>\n",
              "      <td>...</td>\n",
              "      <td>...</td>\n",
              "      <td>...</td>\n",
              "      <td>...</td>\n",
              "      <td>...</td>\n",
              "    </tr>\n",
              "    <tr>\n",
              "      <th>86</th>\n",
              "      <td>87</td>\n",
              "      <td>Wartian Herkku</td>\n",
              "      <td>Pirkko Koskitalo</td>\n",
              "      <td>Torikatu 38</td>\n",
              "      <td>Oulu</td>\n",
              "      <td>90110</td>\n",
              "      <td>Finland</td>\n",
              "      <td>Wartian Herkku</td>\n",
              "      <td>Pirkko Koskitalo</td>\n",
              "      <td>Torikatu 38</td>\n",
              "      <td>Oulu</td>\n",
              "      <td>90110</td>\n",
              "      <td>Finland</td>\n",
              "    </tr>\n",
              "    <tr>\n",
              "      <th>87</th>\n",
              "      <td>88</td>\n",
              "      <td>Wellington Importadora</td>\n",
              "      <td>Paula Parente</td>\n",
              "      <td>Rua do Mercado 12</td>\n",
              "      <td>Resende</td>\n",
              "      <td>08737-363</td>\n",
              "      <td>Brazil</td>\n",
              "      <td>Wellington Importadora</td>\n",
              "      <td>Paula Parente</td>\n",
              "      <td>Rua do Mercado 12</td>\n",
              "      <td>Resende</td>\n",
              "      <td>08737-363</td>\n",
              "      <td>Brazil</td>\n",
              "    </tr>\n",
              "    <tr>\n",
              "      <th>88</th>\n",
              "      <td>89</td>\n",
              "      <td>White Clover Markets</td>\n",
              "      <td>Karl Jablonski</td>\n",
              "      <td>305 - 14th Ave. S. Suite 3B</td>\n",
              "      <td>Seattle</td>\n",
              "      <td>98128</td>\n",
              "      <td>USA</td>\n",
              "      <td>White Clover Markets</td>\n",
              "      <td>Karl Jablonski</td>\n",
              "      <td>305 - 14th Ave. S. Suite 3B</td>\n",
              "      <td>Seattle</td>\n",
              "      <td>98128</td>\n",
              "      <td>USA</td>\n",
              "    </tr>\n",
              "    <tr>\n",
              "      <th>89</th>\n",
              "      <td>90</td>\n",
              "      <td>Wilman</td>\n",
              "      <td>Matti Karttunen</td>\n",
              "      <td>Keskuskatu 45</td>\n",
              "      <td>Helsinki</td>\n",
              "      <td>21240</td>\n",
              "      <td>Finland</td>\n",
              "      <td>Wilman</td>\n",
              "      <td>Matti Karttunen</td>\n",
              "      <td>Keskuskatu 45</td>\n",
              "      <td>Helsinki</td>\n",
              "      <td>21240</td>\n",
              "      <td>Finland</td>\n",
              "    </tr>\n",
              "    <tr>\n",
              "      <th>90</th>\n",
              "      <td>91</td>\n",
              "      <td>Wolski</td>\n",
              "      <td>Zbyszek</td>\n",
              "      <td>ul Filtrowa 68</td>\n",
              "      <td>Walla</td>\n",
              "      <td>01-012</td>\n",
              "      <td>Poland</td>\n",
              "      <td>Wolski</td>\n",
              "      <td>Zbyszek</td>\n",
              "      <td>ul Filtrowa 68</td>\n",
              "      <td>Walla</td>\n",
              "      <td>01-012</td>\n",
              "      <td>Poland</td>\n",
              "    </tr>\n",
              "  </tbody>\n",
              "</table>\n",
              "<p>91 rows × 13 columns</p>\n",
              "</div>\n",
              "    <div class=\"colab-df-buttons\">\n",
              "\n",
              "  <div class=\"colab-df-container\">\n",
              "    <button class=\"colab-df-convert\" onclick=\"convertToInteractive('df-0efc2528-9c34-4055-bda7-157e48e0eed5')\"\n",
              "            title=\"Convert this dataframe to an interactive table.\"\n",
              "            style=\"display:none;\">\n",
              "\n",
              "  <svg xmlns=\"http://www.w3.org/2000/svg\" height=\"24px\" viewBox=\"0 -960 960 960\">\n",
              "    <path d=\"M120-120v-720h720v720H120Zm60-500h600v-160H180v160Zm220 220h160v-160H400v160Zm0 220h160v-160H400v160ZM180-400h160v-160H180v160Zm440 0h160v-160H620v160ZM180-180h160v-160H180v160Zm440 0h160v-160H620v160Z\"/>\n",
              "  </svg>\n",
              "    </button>\n",
              "\n",
              "  <style>\n",
              "    .colab-df-container {\n",
              "      display:flex;\n",
              "      gap: 12px;\n",
              "    }\n",
              "\n",
              "    .colab-df-convert {\n",
              "      background-color: #E8F0FE;\n",
              "      border: none;\n",
              "      border-radius: 50%;\n",
              "      cursor: pointer;\n",
              "      display: none;\n",
              "      fill: #1967D2;\n",
              "      height: 32px;\n",
              "      padding: 0 0 0 0;\n",
              "      width: 32px;\n",
              "    }\n",
              "\n",
              "    .colab-df-convert:hover {\n",
              "      background-color: #E2EBFA;\n",
              "      box-shadow: 0px 1px 2px rgba(60, 64, 67, 0.3), 0px 1px 3px 1px rgba(60, 64, 67, 0.15);\n",
              "      fill: #174EA6;\n",
              "    }\n",
              "\n",
              "    .colab-df-buttons div {\n",
              "      margin-bottom: 4px;\n",
              "    }\n",
              "\n",
              "    [theme=dark] .colab-df-convert {\n",
              "      background-color: #3B4455;\n",
              "      fill: #D2E3FC;\n",
              "    }\n",
              "\n",
              "    [theme=dark] .colab-df-convert:hover {\n",
              "      background-color: #434B5C;\n",
              "      box-shadow: 0px 1px 3px 1px rgba(0, 0, 0, 0.15);\n",
              "      filter: drop-shadow(0px 1px 2px rgba(0, 0, 0, 0.3));\n",
              "      fill: #FFFFFF;\n",
              "    }\n",
              "  </style>\n",
              "\n",
              "    <script>\n",
              "      const buttonEl =\n",
              "        document.querySelector('#df-0efc2528-9c34-4055-bda7-157e48e0eed5 button.colab-df-convert');\n",
              "      buttonEl.style.display =\n",
              "        google.colab.kernel.accessAllowed ? 'block' : 'none';\n",
              "\n",
              "      async function convertToInteractive(key) {\n",
              "        const element = document.querySelector('#df-0efc2528-9c34-4055-bda7-157e48e0eed5');\n",
              "        const dataTable =\n",
              "          await google.colab.kernel.invokeFunction('convertToInteractive',\n",
              "                                                    [key], {});\n",
              "        if (!dataTable) return;\n",
              "\n",
              "        const docLinkHtml = 'Like what you see? Visit the ' +\n",
              "          '<a target=\"_blank\" href=https://colab.research.google.com/notebooks/data_table.ipynb>data table notebook</a>'\n",
              "          + ' to learn more about interactive tables.';\n",
              "        element.innerHTML = '';\n",
              "        dataTable['output_type'] = 'display_data';\n",
              "        await google.colab.output.renderOutput(dataTable, element);\n",
              "        const docLink = document.createElement('div');\n",
              "        docLink.innerHTML = docLinkHtml;\n",
              "        element.appendChild(docLink);\n",
              "      }\n",
              "    </script>\n",
              "  </div>\n",
              "\n",
              "\n",
              "<div id=\"df-046fa2e6-0f50-4013-91d4-04b5d8bbeac4\">\n",
              "  <button class=\"colab-df-quickchart\" onclick=\"quickchart('df-046fa2e6-0f50-4013-91d4-04b5d8bbeac4')\"\n",
              "            title=\"Suggest charts\"\n",
              "            style=\"display:none;\">\n",
              "\n",
              "<svg xmlns=\"http://www.w3.org/2000/svg\" height=\"24px\"viewBox=\"0 0 24 24\"\n",
              "     width=\"24px\">\n",
              "    <g>\n",
              "        <path d=\"M19 3H5c-1.1 0-2 .9-2 2v14c0 1.1.9 2 2 2h14c1.1 0 2-.9 2-2V5c0-1.1-.9-2-2-2zM9 17H7v-7h2v7zm4 0h-2V7h2v10zm4 0h-2v-4h2v4z\"/>\n",
              "    </g>\n",
              "</svg>\n",
              "  </button>\n",
              "\n",
              "<style>\n",
              "  .colab-df-quickchart {\n",
              "      --bg-color: #E8F0FE;\n",
              "      --fill-color: #1967D2;\n",
              "      --hover-bg-color: #E2EBFA;\n",
              "      --hover-fill-color: #174EA6;\n",
              "      --disabled-fill-color: #AAA;\n",
              "      --disabled-bg-color: #DDD;\n",
              "  }\n",
              "\n",
              "  [theme=dark] .colab-df-quickchart {\n",
              "      --bg-color: #3B4455;\n",
              "      --fill-color: #D2E3FC;\n",
              "      --hover-bg-color: #434B5C;\n",
              "      --hover-fill-color: #FFFFFF;\n",
              "      --disabled-bg-color: #3B4455;\n",
              "      --disabled-fill-color: #666;\n",
              "  }\n",
              "\n",
              "  .colab-df-quickchart {\n",
              "    background-color: var(--bg-color);\n",
              "    border: none;\n",
              "    border-radius: 50%;\n",
              "    cursor: pointer;\n",
              "    display: none;\n",
              "    fill: var(--fill-color);\n",
              "    height: 32px;\n",
              "    padding: 0;\n",
              "    width: 32px;\n",
              "  }\n",
              "\n",
              "  .colab-df-quickchart:hover {\n",
              "    background-color: var(--hover-bg-color);\n",
              "    box-shadow: 0 1px 2px rgba(60, 64, 67, 0.3), 0 1px 3px 1px rgba(60, 64, 67, 0.15);\n",
              "    fill: var(--button-hover-fill-color);\n",
              "  }\n",
              "\n",
              "  .colab-df-quickchart-complete:disabled,\n",
              "  .colab-df-quickchart-complete:disabled:hover {\n",
              "    background-color: var(--disabled-bg-color);\n",
              "    fill: var(--disabled-fill-color);\n",
              "    box-shadow: none;\n",
              "  }\n",
              "\n",
              "  .colab-df-spinner {\n",
              "    border: 2px solid var(--fill-color);\n",
              "    border-color: transparent;\n",
              "    border-bottom-color: var(--fill-color);\n",
              "    animation:\n",
              "      spin 1s steps(1) infinite;\n",
              "  }\n",
              "\n",
              "  @keyframes spin {\n",
              "    0% {\n",
              "      border-color: transparent;\n",
              "      border-bottom-color: var(--fill-color);\n",
              "      border-left-color: var(--fill-color);\n",
              "    }\n",
              "    20% {\n",
              "      border-color: transparent;\n",
              "      border-left-color: var(--fill-color);\n",
              "      border-top-color: var(--fill-color);\n",
              "    }\n",
              "    30% {\n",
              "      border-color: transparent;\n",
              "      border-left-color: var(--fill-color);\n",
              "      border-top-color: var(--fill-color);\n",
              "      border-right-color: var(--fill-color);\n",
              "    }\n",
              "    40% {\n",
              "      border-color: transparent;\n",
              "      border-right-color: var(--fill-color);\n",
              "      border-top-color: var(--fill-color);\n",
              "    }\n",
              "    60% {\n",
              "      border-color: transparent;\n",
              "      border-right-color: var(--fill-color);\n",
              "    }\n",
              "    80% {\n",
              "      border-color: transparent;\n",
              "      border-right-color: var(--fill-color);\n",
              "      border-bottom-color: var(--fill-color);\n",
              "    }\n",
              "    90% {\n",
              "      border-color: transparent;\n",
              "      border-bottom-color: var(--fill-color);\n",
              "    }\n",
              "  }\n",
              "</style>\n",
              "\n",
              "  <script>\n",
              "    async function quickchart(key) {\n",
              "      const quickchartButtonEl =\n",
              "        document.querySelector('#' + key + ' button');\n",
              "      quickchartButtonEl.disabled = true;  // To prevent multiple clicks.\n",
              "      quickchartButtonEl.classList.add('colab-df-spinner');\n",
              "      try {\n",
              "        const charts = await google.colab.kernel.invokeFunction(\n",
              "            'suggestCharts', [key], {});\n",
              "      } catch (error) {\n",
              "        console.error('Error during call to suggestCharts:', error);\n",
              "      }\n",
              "      quickchartButtonEl.classList.remove('colab-df-spinner');\n",
              "      quickchartButtonEl.classList.add('colab-df-quickchart-complete');\n",
              "    }\n",
              "    (() => {\n",
              "      let quickchartButtonEl =\n",
              "        document.querySelector('#df-046fa2e6-0f50-4013-91d4-04b5d8bbeac4 button');\n",
              "      quickchartButtonEl.style.display =\n",
              "        google.colab.kernel.accessAllowed ? 'block' : 'none';\n",
              "    })();\n",
              "  </script>\n",
              "</div>\n",
              "\n",
              "  <div id=\"id_d659ff8e-c3ca-48d2-9b7e-b1878530083d\">\n",
              "    <style>\n",
              "      .colab-df-generate {\n",
              "        background-color: #E8F0FE;\n",
              "        border: none;\n",
              "        border-radius: 50%;\n",
              "        cursor: pointer;\n",
              "        display: none;\n",
              "        fill: #1967D2;\n",
              "        height: 32px;\n",
              "        padding: 0 0 0 0;\n",
              "        width: 32px;\n",
              "      }\n",
              "\n",
              "      .colab-df-generate:hover {\n",
              "        background-color: #E2EBFA;\n",
              "        box-shadow: 0px 1px 2px rgba(60, 64, 67, 0.3), 0px 1px 3px 1px rgba(60, 64, 67, 0.15);\n",
              "        fill: #174EA6;\n",
              "      }\n",
              "\n",
              "      [theme=dark] .colab-df-generate {\n",
              "        background-color: #3B4455;\n",
              "        fill: #D2E3FC;\n",
              "      }\n",
              "\n",
              "      [theme=dark] .colab-df-generate:hover {\n",
              "        background-color: #434B5C;\n",
              "        box-shadow: 0px 1px 3px 1px rgba(0, 0, 0, 0.15);\n",
              "        filter: drop-shadow(0px 1px 2px rgba(0, 0, 0, 0.3));\n",
              "        fill: #FFFFFF;\n",
              "      }\n",
              "    </style>\n",
              "    <button class=\"colab-df-generate\" onclick=\"generateWithVariable('merged_df')\"\n",
              "            title=\"Generate code using this dataframe.\"\n",
              "            style=\"display:none;\">\n",
              "\n",
              "  <svg xmlns=\"http://www.w3.org/2000/svg\" height=\"24px\"viewBox=\"0 0 24 24\"\n",
              "       width=\"24px\">\n",
              "    <path d=\"M7,19H8.4L18.45,9,17,7.55,7,17.6ZM5,21V16.75L18.45,3.32a2,2,0,0,1,2.83,0l1.4,1.43a1.91,1.91,0,0,1,.58,1.4,1.91,1.91,0,0,1-.58,1.4L9.25,21ZM18.45,9,17,7.55Zm-12,3A5.31,5.31,0,0,0,4.9,8.1,5.31,5.31,0,0,0,1,6.5,5.31,5.31,0,0,0,4.9,4.9,5.31,5.31,0,0,0,6.5,1,5.31,5.31,0,0,0,8.1,4.9,5.31,5.31,0,0,0,12,6.5,5.46,5.46,0,0,0,6.5,12Z\"/>\n",
              "  </svg>\n",
              "    </button>\n",
              "    <script>\n",
              "      (() => {\n",
              "      const buttonEl =\n",
              "        document.querySelector('#id_d659ff8e-c3ca-48d2-9b7e-b1878530083d button.colab-df-generate');\n",
              "      buttonEl.style.display =\n",
              "        google.colab.kernel.accessAllowed ? 'block' : 'none';\n",
              "\n",
              "      buttonEl.onclick = () => {\n",
              "        google.colab.notebook.generateWithVariable('merged_df');\n",
              "      }\n",
              "      })();\n",
              "    </script>\n",
              "  </div>\n",
              "\n",
              "    </div>\n",
              "  </div>\n"
            ],
            "application/vnd.google.colaboratory.intrinsic+json": {
              "type": "dataframe",
              "variable_name": "merged_df",
              "summary": "{\n  \"name\": \"merged_df\",\n  \"rows\": 91,\n  \"fields\": [\n    {\n      \"column\": \"CustomerID\",\n      \"properties\": {\n        \"dtype\": \"number\",\n        \"std\": 26,\n        \"min\": 1,\n        \"max\": 91,\n        \"num_unique_values\": 91,\n        \"samples\": [\n          41,\n          23,\n          56\n        ],\n        \"semantic_type\": \"\",\n        \"description\": \"\"\n      }\n    },\n    {\n      \"column\": \"CustomerName_x\",\n      \"properties\": {\n        \"dtype\": \"string\",\n        \"num_unique_values\": 91,\n        \"samples\": [\n          \"La maison dAsie\",\n          \"Folies gourmandes\",\n          \"Ottilies K\\u00e4seladen\"\n        ],\n        \"semantic_type\": \"\",\n        \"description\": \"\"\n      }\n    },\n    {\n      \"column\": \"ContractName_x\",\n      \"properties\": {\n        \"dtype\": \"string\",\n        \"num_unique_values\": 91,\n        \"samples\": [\n          \"Annette Roulet\",\n          \"Martine Ranc\\u00e9\",\n          \"Henriette Pfalzheim\"\n        ],\n        \"semantic_type\": \"\",\n        \"description\": \"\"\n      }\n    },\n    {\n      \"column\": \"Address_x\",\n      \"properties\": {\n        \"dtype\": \"string\",\n        \"num_unique_values\": 91,\n        \"samples\": [\n          \"1 rue Alsace-Lorraine\",\n          \"184 chauss\\u00e9e de Tournai\",\n          \"Mehrheimerstr. 369\"\n        ],\n        \"semantic_type\": \"\",\n        \"description\": \"\"\n      }\n    },\n    {\n      \"column\": \"City_x\",\n      \"properties\": {\n        \"dtype\": \"string\",\n        \"num_unique_values\": 69,\n        \"samples\": [\n          \"Campinas\",\n          \"Berlin\",\n          \"Salzburg\"\n        ],\n        \"semantic_type\": \"\",\n        \"description\": \"\"\n      }\n    },\n    {\n      \"column\": \"PostalCode_x\",\n      \"properties\": {\n        \"dtype\": \"string\",\n        \"num_unique_values\": 87,\n        \"samples\": [\n          \"05634-030\",\n          \"12209\",\n          \"1675\"\n        ],\n        \"semantic_type\": \"\",\n        \"description\": \"\"\n      }\n    },\n    {\n      \"column\": \"Country_x\",\n      \"properties\": {\n        \"dtype\": \"category\",\n        \"num_unique_values\": 21,\n        \"samples\": [\n          \"Germany\",\n          \"Norway\",\n          \"Ireland\"\n        ],\n        \"semantic_type\": \"\",\n        \"description\": \"\"\n      }\n    },\n    {\n      \"column\": \"CustomerName_y\",\n      \"properties\": {\n        \"dtype\": \"string\",\n        \"num_unique_values\": 91,\n        \"samples\": [\n          \"La maison dAsie\",\n          \"Folies gourmandes\",\n          \"Ottilies K\\u00e4seladen\"\n        ],\n        \"semantic_type\": \"\",\n        \"description\": \"\"\n      }\n    },\n    {\n      \"column\": \"ContractName_y\",\n      \"properties\": {\n        \"dtype\": \"string\",\n        \"num_unique_values\": 91,\n        \"samples\": [\n          \"Annette Roulet\",\n          \"Martine Ranc\\u00e9\",\n          \"Henriette Pfalzheim\"\n        ],\n        \"semantic_type\": \"\",\n        \"description\": \"\"\n      }\n    },\n    {\n      \"column\": \"Address_y\",\n      \"properties\": {\n        \"dtype\": \"string\",\n        \"num_unique_values\": 91,\n        \"samples\": [\n          \"1 rue Alsace-Lorraine\",\n          \"184 chauss\\u00e9e de Tournai\",\n          \"Mehrheimerstr. 369\"\n        ],\n        \"semantic_type\": \"\",\n        \"description\": \"\"\n      }\n    },\n    {\n      \"column\": \"City_y\",\n      \"properties\": {\n        \"dtype\": \"string\",\n        \"num_unique_values\": 69,\n        \"samples\": [\n          \"Campinas\",\n          \"Berlin\",\n          \"Salzburg\"\n        ],\n        \"semantic_type\": \"\",\n        \"description\": \"\"\n      }\n    },\n    {\n      \"column\": \"PostalCode_y\",\n      \"properties\": {\n        \"dtype\": \"string\",\n        \"num_unique_values\": 87,\n        \"samples\": [\n          \"05634-030\",\n          \"12209\",\n          \"1675\"\n        ],\n        \"semantic_type\": \"\",\n        \"description\": \"\"\n      }\n    },\n    {\n      \"column\": \"Country_y\",\n      \"properties\": {\n        \"dtype\": \"category\",\n        \"num_unique_values\": 21,\n        \"samples\": [\n          \"Germany\",\n          \"Norway\",\n          \"Ireland\"\n        ],\n        \"semantic_type\": \"\",\n        \"description\": \"\"\n      }\n    }\n  ]\n}"
            }
          },
          "metadata": {},
          "execution_count": 46
        }
      ]
    }
  ]
}